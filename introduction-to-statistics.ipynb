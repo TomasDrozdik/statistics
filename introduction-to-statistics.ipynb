{
 "cells": [
  {
   "cell_type": "code",
   "execution_count": 10,
   "metadata": {},
   "outputs": [
    {
     "data": {
      "text/html": [
       "\n",
       "    <div class=\"bk-root\">\n",
       "        <a href=\"https://bokeh.org\" target=\"_blank\" class=\"bk-logo bk-logo-small bk-logo-notebook\"></a>\n",
       "        <span id=\"1480\">Loading BokehJS ...</span>\n",
       "    </div>"
      ]
     },
     "metadata": {},
     "output_type": "display_data"
    },
    {
     "data": {
      "application/javascript": "\n(function(root) {\n  function now() {\n    return new Date();\n  }\n\n  const force = true;\n\n  if (typeof root._bokeh_onload_callbacks === \"undefined\" || force === true) {\n    root._bokeh_onload_callbacks = [];\n    root._bokeh_is_loading = undefined;\n  }\n\n  const JS_MIME_TYPE = 'application/javascript';\n  const HTML_MIME_TYPE = 'text/html';\n  const EXEC_MIME_TYPE = 'application/vnd.bokehjs_exec.v0+json';\n  const CLASS_NAME = 'output_bokeh rendered_html';\n\n  /**\n   * Render data to the DOM node\n   */\n  function render(props, node) {\n    const script = document.createElement(\"script\");\n    node.appendChild(script);\n  }\n\n  /**\n   * Handle when an output is cleared or removed\n   */\n  function handleClearOutput(event, handle) {\n    const cell = handle.cell;\n\n    const id = cell.output_area._bokeh_element_id;\n    const server_id = cell.output_area._bokeh_server_id;\n    // Clean up Bokeh references\n    if (id != null && id in Bokeh.index) {\n      Bokeh.index[id].model.document.clear();\n      delete Bokeh.index[id];\n    }\n\n    if (server_id !== undefined) {\n      // Clean up Bokeh references\n      const cmd_clean = \"from bokeh.io.state import curstate; print(curstate().uuid_to_server['\" + server_id + \"'].get_sessions()[0].document.roots[0]._id)\";\n      cell.notebook.kernel.execute(cmd_clean, {\n        iopub: {\n          output: function(msg) {\n            const id = msg.content.text.trim();\n            if (id in Bokeh.index) {\n              Bokeh.index[id].model.document.clear();\n              delete Bokeh.index[id];\n            }\n          }\n        }\n      });\n      // Destroy server and session\n      const cmd_destroy = \"import bokeh.io.notebook as ion; ion.destroy_server('\" + server_id + \"')\";\n      cell.notebook.kernel.execute(cmd_destroy);\n    }\n  }\n\n  /**\n   * Handle when a new output is added\n   */\n  function handleAddOutput(event, handle) {\n    const output_area = handle.output_area;\n    const output = handle.output;\n\n    // limit handleAddOutput to display_data with EXEC_MIME_TYPE content only\n    if ((output.output_type != \"display_data\") || (!Object.prototype.hasOwnProperty.call(output.data, EXEC_MIME_TYPE))) {\n      return\n    }\n\n    const toinsert = output_area.element.find(\".\" + CLASS_NAME.split(' ')[0]);\n\n    if (output.metadata[EXEC_MIME_TYPE][\"id\"] !== undefined) {\n      toinsert[toinsert.length - 1].firstChild.textContent = output.data[JS_MIME_TYPE];\n      // store reference to embed id on output_area\n      output_area._bokeh_element_id = output.metadata[EXEC_MIME_TYPE][\"id\"];\n    }\n    if (output.metadata[EXEC_MIME_TYPE][\"server_id\"] !== undefined) {\n      const bk_div = document.createElement(\"div\");\n      bk_div.innerHTML = output.data[HTML_MIME_TYPE];\n      const script_attrs = bk_div.children[0].attributes;\n      for (let i = 0; i < script_attrs.length; i++) {\n        toinsert[toinsert.length - 1].firstChild.setAttribute(script_attrs[i].name, script_attrs[i].value);\n        toinsert[toinsert.length - 1].firstChild.textContent = bk_div.children[0].textContent\n      }\n      // store reference to server id on output_area\n      output_area._bokeh_server_id = output.metadata[EXEC_MIME_TYPE][\"server_id\"];\n    }\n  }\n\n  function register_renderer(events, OutputArea) {\n\n    function append_mime(data, metadata, element) {\n      // create a DOM node to render to\n      const toinsert = this.create_output_subarea(\n        metadata,\n        CLASS_NAME,\n        EXEC_MIME_TYPE\n      );\n      this.keyboard_manager.register_events(toinsert);\n      // Render to node\n      const props = {data: data, metadata: metadata[EXEC_MIME_TYPE]};\n      render(props, toinsert[toinsert.length - 1]);\n      element.append(toinsert);\n      return toinsert\n    }\n\n    /* Handle when an output is cleared or removed */\n    events.on('clear_output.CodeCell', handleClearOutput);\n    events.on('delete.Cell', handleClearOutput);\n\n    /* Handle when a new output is added */\n    events.on('output_added.OutputArea', handleAddOutput);\n\n    /**\n     * Register the mime type and append_mime function with output_area\n     */\n    OutputArea.prototype.register_mime_type(EXEC_MIME_TYPE, append_mime, {\n      /* Is output safe? */\n      safe: true,\n      /* Index of renderer in `output_area.display_order` */\n      index: 0\n    });\n  }\n\n  // register the mime type if in Jupyter Notebook environment and previously unregistered\n  if (root.Jupyter !== undefined) {\n    const events = require('base/js/events');\n    const OutputArea = require('notebook/js/outputarea').OutputArea;\n\n    if (OutputArea.prototype.mime_types().indexOf(EXEC_MIME_TYPE) == -1) {\n      register_renderer(events, OutputArea);\n    }\n  }\n\n  \n  if (typeof (root._bokeh_timeout) === \"undefined\" || force === true) {\n    root._bokeh_timeout = Date.now() + 5000;\n    root._bokeh_failed_load = false;\n  }\n\n  const NB_LOAD_WARNING = {'data': {'text/html':\n     \"<div style='background-color: #fdd'>\\n\"+\n     \"<p>\\n\"+\n     \"BokehJS does not appear to have successfully loaded. If loading BokehJS from CDN, this \\n\"+\n     \"may be due to a slow or bad network connection. Possible fixes:\\n\"+\n     \"</p>\\n\"+\n     \"<ul>\\n\"+\n     \"<li>re-rerun `output_notebook()` to attempt to load from CDN again, or</li>\\n\"+\n     \"<li>use INLINE resources instead, as so:</li>\\n\"+\n     \"</ul>\\n\"+\n     \"<code>\\n\"+\n     \"from bokeh.resources import INLINE\\n\"+\n     \"output_notebook(resources=INLINE)\\n\"+\n     \"</code>\\n\"+\n     \"</div>\"}};\n\n  function display_loaded() {\n    const el = document.getElementById(\"1480\");\n    if (el != null) {\n      el.textContent = \"BokehJS is loading...\";\n    }\n    if (root.Bokeh !== undefined) {\n      if (el != null) {\n        el.textContent = \"BokehJS \" + root.Bokeh.version + \" successfully loaded.\";\n      }\n    } else if (Date.now() < root._bokeh_timeout) {\n      setTimeout(display_loaded, 100)\n    }\n  }\n\n\n  function run_callbacks() {\n    try {\n      root._bokeh_onload_callbacks.forEach(function(callback) {\n        if (callback != null)\n          callback();\n      });\n    } finally {\n      delete root._bokeh_onload_callbacks\n    }\n    console.debug(\"Bokeh: all callbacks have finished\");\n  }\n\n  function load_libs(css_urls, js_urls, callback) {\n    if (css_urls == null) css_urls = [];\n    if (js_urls == null) js_urls = [];\n\n    root._bokeh_onload_callbacks.push(callback);\n    if (root._bokeh_is_loading > 0) {\n      console.debug(\"Bokeh: BokehJS is being loaded, scheduling callback at\", now());\n      return null;\n    }\n    if (js_urls == null || js_urls.length === 0) {\n      run_callbacks();\n      return null;\n    }\n    console.debug(\"Bokeh: BokehJS not loaded, scheduling load and callback at\", now());\n    root._bokeh_is_loading = css_urls.length + js_urls.length;\n\n    function on_load() {\n      root._bokeh_is_loading--;\n      if (root._bokeh_is_loading === 0) {\n        console.debug(\"Bokeh: all BokehJS libraries/stylesheets loaded\");\n        run_callbacks()\n      }\n    }\n\n    function on_error(url) {\n      console.error(\"failed to load \" + url);\n    }\n\n    for (let i = 0; i < css_urls.length; i++) {\n      const url = css_urls[i];\n      const element = document.createElement(\"link\");\n      element.onload = on_load;\n      element.onerror = on_error.bind(null, url);\n      element.rel = \"stylesheet\";\n      element.type = \"text/css\";\n      element.href = url;\n      console.debug(\"Bokeh: injecting link tag for BokehJS stylesheet: \", url);\n      document.body.appendChild(element);\n    }\n\n    for (let i = 0; i < js_urls.length; i++) {\n      const url = js_urls[i];\n      const element = document.createElement('script');\n      element.onload = on_load;\n      element.onerror = on_error.bind(null, url);\n      element.async = false;\n      element.src = url;\n      console.debug(\"Bokeh: injecting script tag for BokehJS library: \", url);\n      document.head.appendChild(element);\n    }\n  };\n\n  function inject_raw_css(css) {\n    const element = document.createElement(\"style\");\n    element.appendChild(document.createTextNode(css));\n    document.body.appendChild(element);\n  }\n\n  \n  const js_urls = [\"https://cdn.bokeh.org/bokeh/release/bokeh-2.4.2.min.js\", \"https://cdn.bokeh.org/bokeh/release/bokeh-gl-2.4.2.min.js\", \"https://cdn.bokeh.org/bokeh/release/bokeh-widgets-2.4.2.min.js\", \"https://cdn.bokeh.org/bokeh/release/bokeh-tables-2.4.2.min.js\", \"https://cdn.bokeh.org/bokeh/release/bokeh-mathjax-2.4.2.min.js\"];\n  const css_urls = [];\n  \n\n  const inline_js = [\n    function(Bokeh) {\n      Bokeh.set_log_level(\"info\");\n    },\n    function(Bokeh) {\n    \n    \n    }\n  ];\n\n  function run_inline_js() {\n    \n    if (root.Bokeh !== undefined || force === true) {\n      \n    for (let i = 0; i < inline_js.length; i++) {\n      inline_js[i].call(root, root.Bokeh);\n    }\n    if (force === true) {\n        display_loaded();\n      }} else if (Date.now() < root._bokeh_timeout) {\n      setTimeout(run_inline_js, 100);\n    } else if (!root._bokeh_failed_load) {\n      console.log(\"Bokeh: BokehJS failed to load within specified timeout.\");\n      root._bokeh_failed_load = true;\n    } else if (force !== true) {\n      const cell = $(document.getElementById(\"1480\")).parents('.cell').data().cell;\n      cell.output_area.append_execute_result(NB_LOAD_WARNING)\n    }\n\n  }\n\n  if (root._bokeh_is_loading === 0) {\n    console.debug(\"Bokeh: BokehJS loaded, going straight to plotting\");\n    run_inline_js();\n  } else {\n    load_libs(css_urls, js_urls, function() {\n      console.debug(\"Bokeh: BokehJS plotting callback run at\", now());\n      run_inline_js();\n    });\n  }\n}(window));",
      "application/vnd.bokehjs_load.v0+json": ""
     },
     "metadata": {},
     "output_type": "display_data"
    }
   ],
   "source": [
    "import pandas as pd\n",
    "import numpy as np\n",
    "from scipy import stats\n",
    "import math\n",
    "import random\n",
    "\n",
    "from bokeh.plotting import figure, output_notebook, show\n",
    "from bokeh.models import (\n",
    "    ColumnDataSource,\n",
    "    LinearColorMapper,\n",
    "    LogColorMapper,\n",
    "    BoxAnnotation,\n",
    ")\n",
    "from bokeh.transform import factor_cmap\n",
    "from bokeh.palettes import Colorblind, Magma256\n",
    "\n",
    "output_notebook()\n",
    "palette = Colorblind[8]\n",
    "palette_gradient = Magma256"
   ]
  },
  {
   "cell_type": "markdown",
   "metadata": {},
   "source": [
    "# Week 3"
   ]
  },
  {
   "cell_type": "markdown",
   "metadata": {},
   "source": [
    "## Empirical rule and Z-score"
   ]
  },
  {
   "cell_type": "code",
   "execution_count": 11,
   "metadata": {},
   "outputs": [],
   "source": [
    "def standardize(x):\n",
    "    mean = np.mean(x)\n",
    "    std = np.std(x)\n",
    "    inner = lambda x: (x - mean) / std\n",
    "    return inner(x)\n",
    "\n",
    "\n",
    "def plot_distribution(x):\n",
    "    std = np.std(x)\n",
    "    mean = np.mean(x)\n",
    "    median = np.median(x)\n",
    "\n",
    "    bins = 50\n",
    "    hist, edges = np.histogram(x, density=True, bins=bins)\n",
    "    a, b = np.min(edges), np.max(edges)\n",
    "    fill_alpha = 0.2\n",
    "\n",
    "    p = figure(\n",
    "        title=f\"Distribution[{np.min(x):.2f}, {np.max(x):.2f}] len:{len(x)}, std:{std:.2f}, mean:{mean:.2f}, median:{median:.2f}\"\n",
    "    )\n",
    "    p.vbar(x=edges[1:], top=hist, width=(b - a) / bins / 5, fill_color=palette[0])\n",
    "\n",
    "    # Empiracal rule\n",
    "    p.add_layout(\n",
    "        BoxAnnotation(\n",
    "            left=mean - std,\n",
    "            right=mean + std,\n",
    "            fill_alpha=fill_alpha,\n",
    "            fill_color=palette[1],\n",
    "        )\n",
    "    )\n",
    "\n",
    "    p.add_layout(\n",
    "        BoxAnnotation(\n",
    "            left=mean - 2 * std,\n",
    "            right=mean - std,\n",
    "            fill_alpha=fill_alpha,\n",
    "            fill_color=palette[2],\n",
    "        )\n",
    "    )\n",
    "    p.add_layout(\n",
    "        BoxAnnotation(\n",
    "            left=mean + std,\n",
    "            right=mean + 2 * std,\n",
    "            fill_alpha=fill_alpha,\n",
    "            fill_color=palette[2],\n",
    "        )\n",
    "    )\n",
    "\n",
    "    p.add_layout(\n",
    "        BoxAnnotation(\n",
    "            left=a, right=mean - 2 * std, fill_alpha=fill_alpha, fill_color=palette[3]\n",
    "        )\n",
    "    )\n",
    "    p.add_layout(\n",
    "        BoxAnnotation(\n",
    "            left=mean + 2 * std, right=b, fill_alpha=fill_alpha, fill_color=palette[3]\n",
    "        )\n",
    "    )\n",
    "\n",
    "    show(p)"
   ]
  },
  {
   "cell_type": "code",
   "execution_count": 12,
   "metadata": {},
   "outputs": [
    {
     "name": "stdout",
     "output_type": "stream",
     "text": [
      "RAW\n"
     ]
    },
    {
     "data": {
      "text/html": [
       "\n",
       "\n",
       "\n",
       "\n",
       "\n",
       "\n",
       "  <div class=\"bk-root\" id=\"f567c374-e465-448f-8b8b-63c8e1938c9d\" data-root-id=\"1481\"></div>\n"
      ]
     },
     "metadata": {},
     "output_type": "display_data"
    },
    {
     "data": {
      "application/javascript": "(function(root) {\n  function embed_document(root) {\n    \n  const docs_json = {\"22134c1c-0346-4a86-b9b5-c86b4a1709ca\":{\"defs\":[],\"roots\":{\"references\":[{\"attributes\":{\"below\":[{\"id\":\"1492\"}],\"center\":[{\"id\":\"1495\"},{\"id\":\"1499\"},{\"id\":\"1520\"},{\"id\":\"1521\"},{\"id\":\"1522\"},{\"id\":\"1523\"},{\"id\":\"1524\"}],\"left\":[{\"id\":\"1496\"}],\"renderers\":[{\"id\":\"1518\"}],\"title\":{\"id\":\"1482\"},\"toolbar\":{\"id\":\"1507\"},\"x_range\":{\"id\":\"1484\"},\"x_scale\":{\"id\":\"1488\"},\"y_range\":{\"id\":\"1486\"},\"y_scale\":{\"id\":\"1490\"}},\"id\":\"1481\",\"subtype\":\"Figure\",\"type\":\"Plot\"},{\"attributes\":{\"fill_color\":{\"value\":\"#0072B2\"},\"line_color\":{\"value\":\"#1f77b4\"},\"top\":{\"field\":\"top\"},\"width\":{\"value\":0.16483284067419504},\"x\":{\"field\":\"x\"}},\"id\":\"1515\",\"type\":\"VBar\"},{\"attributes\":{\"overlay\":{\"id\":\"1506\"}},\"id\":\"1502\",\"type\":\"BoxZoomTool\"},{\"attributes\":{},\"id\":\"1572\",\"type\":\"UnionRenderers\"},{\"attributes\":{},\"id\":\"1505\",\"type\":\"HelpTool\"},{\"attributes\":{},\"id\":\"1567\",\"type\":\"BasicTickFormatter\"},{\"attributes\":{},\"id\":\"1573\",\"type\":\"Selection\"},{\"attributes\":{},\"id\":\"1484\",\"type\":\"DataRange1d\"},{\"attributes\":{\"coordinates\":null,\"data_source\":{\"id\":\"1514\"},\"glyph\":{\"id\":\"1515\"},\"group\":null,\"hover_glyph\":null,\"muted_glyph\":{\"id\":\"1517\"},\"nonselection_glyph\":{\"id\":\"1516\"},\"view\":{\"id\":\"1519\"}},\"id\":\"1518\",\"type\":\"GlyphRenderer\"},{\"attributes\":{},\"id\":\"1488\",\"type\":\"LinearScale\"},{\"attributes\":{},\"id\":\"1503\",\"type\":\"SaveTool\"},{\"attributes\":{},\"id\":\"1504\",\"type\":\"ResetTool\"},{\"attributes\":{},\"id\":\"1568\",\"type\":\"AllLabels\"},{\"attributes\":{},\"id\":\"1493\",\"type\":\"BasicTicker\"},{\"attributes\":{},\"id\":\"1500\",\"type\":\"PanTool\"},{\"attributes\":{\"tools\":[{\"id\":\"1500\"},{\"id\":\"1501\"},{\"id\":\"1502\"},{\"id\":\"1503\"},{\"id\":\"1504\"},{\"id\":\"1505\"}]},\"id\":\"1507\",\"type\":\"Toolbar\"},{\"attributes\":{},\"id\":\"1570\",\"type\":\"BasicTickFormatter\"},{\"attributes\":{\"coordinates\":null,\"group\":null,\"text\":\"Distribution[75.39, 116.60] len:1000, std:4.99, mean:99.57, median:99.48\"},\"id\":\"1482\",\"type\":\"Title\"},{\"attributes\":{\"coordinates\":null,\"formatter\":{\"id\":\"1570\"},\"group\":null,\"major_label_policy\":{\"id\":\"1571\"},\"ticker\":{\"id\":\"1493\"}},\"id\":\"1492\",\"type\":\"LinearAxis\"},{\"attributes\":{},\"id\":\"1501\",\"type\":\"WheelZoomTool\"},{\"attributes\":{\"coordinates\":null,\"fill_alpha\":0.2,\"fill_color\":\"#009E73\",\"group\":null,\"left\":109.55350638833534,\"right\":116.59994488718078},\"id\":\"1524\",\"type\":\"BoxAnnotation\"},{\"attributes\":{},\"id\":\"1571\",\"type\":\"AllLabels\"},{\"attributes\":{\"bottom_units\":\"screen\",\"coordinates\":null,\"fill_alpha\":0.5,\"fill_color\":\"lightgrey\",\"group\":null,\"left_units\":\"screen\",\"level\":\"overlay\",\"line_alpha\":1.0,\"line_color\":\"black\",\"line_dash\":[4,4],\"line_width\":2,\"right_units\":\"screen\",\"syncable\":false,\"top_units\":\"screen\"},\"id\":\"1506\",\"type\":\"BoxAnnotation\"},{\"attributes\":{},\"id\":\"1490\",\"type\":\"LinearScale\"},{\"attributes\":{\"coordinates\":null,\"fill_alpha\":0.2,\"fill_color\":\"#E69F00\",\"group\":null,\"left\":94.57357361570847,\"right\":104.56019546412638},\"id\":\"1520\",\"type\":\"BoxAnnotation\"},{\"attributes\":{},\"id\":\"1486\",\"type\":\"DataRange1d\"},{\"attributes\":{\"coordinates\":null,\"fill_alpha\":0.2,\"fill_color\":\"#F0E442\",\"group\":null,\"left\":89.58026269149951,\"right\":94.57357361570847},\"id\":\"1521\",\"type\":\"BoxAnnotation\"},{\"attributes\":{\"coordinates\":null,\"fill_alpha\":0.2,\"fill_color\":\"#009E73\",\"group\":null,\"left\":75.39173471863202,\"right\":89.58026269149951},\"id\":\"1523\",\"type\":\"BoxAnnotation\"},{\"attributes\":{\"coordinates\":null,\"fill_alpha\":0.2,\"fill_color\":\"#F0E442\",\"group\":null,\"left\":104.56019546412638,\"right\":109.55350638833534},\"id\":\"1522\",\"type\":\"BoxAnnotation\"},{\"attributes\":{\"coordinates\":null,\"formatter\":{\"id\":\"1567\"},\"group\":null,\"major_label_policy\":{\"id\":\"1568\"},\"ticker\":{\"id\":\"1497\"}},\"id\":\"1496\",\"type\":\"LinearAxis\"},{\"attributes\":{\"source\":{\"id\":\"1514\"}},\"id\":\"1519\",\"type\":\"CDSView\"},{\"attributes\":{},\"id\":\"1497\",\"type\":\"BasicTicker\"},{\"attributes\":{\"fill_alpha\":{\"value\":0.1},\"fill_color\":{\"value\":\"#0072B2\"},\"hatch_alpha\":{\"value\":0.1},\"line_alpha\":{\"value\":0.1},\"line_color\":{\"value\":\"#1f77b4\"},\"top\":{\"field\":\"top\"},\"width\":{\"value\":0.16483284067419504},\"x\":{\"field\":\"x\"}},\"id\":\"1516\",\"type\":\"VBar\"},{\"attributes\":{\"data\":{\"top\":{\"__ndarray__\":\"blK9HSnhUz8AAAAAAAAAAAAAAAAAAAAAAAAAAAAAAAAAAAAAAAAAAAAAAAAAAAAAAAAAAAAAAAAAAAAAAAAAAA1SvR0p4VM/AAAAAAAAAAAAAAAAAAAAABP7m6y90W0/blK9HSnhYz8NUr0dKeFjP25SvR0p4WM/pPubrL3RbT+Qpixlc9l4P/nSKWjxJpA/E/ubrL3RjT8Ipyxlc9mYP+LRUNNgm5c/E/ubrL3RnT/aZ8/UH0KjPwC8PhxqOqg/N+aJ9cZwrj8BPatmMoC0P8ynBfoDZbE/JF1GeaSRsz/lMSILt8+0P3IH/pzJDbY/Q8igDHZ2sD8uJ5mvOx+1P7OS80INBLI/XJLzQg0Esj/i0VDTYJunPy98CPeFF6o/3+Ziilf8pj/L0Hc+0A+fPy4nma87H5U/L3wI94UXmj8Ipyxlc9mIPwinLGVz2Xg/kKYsZXPZeD8T+5usvdF9P6T7m6y90W0/pPubrL3RbT8AAAAAAAAAAAAAAAAAAAAADVK9HSnhUz9uUr0dKeFTPw==\",\"dtype\":\"float64\",\"order\":\"little\",\"shape\":[50]},\"x\":{\"__ndarray__\":\"pk+2SdENU0BvUO1kkEJTQDdRJIBPd1NAAFJbmw6sU0DIUpK2zeBTQJBTydGMFVRAWVQA7UtKVEAhVTcIC39UQOpVbiPKs1RAslalPonoVEB6V9xZSB1VQENYE3UHUlVAC1lKkMaGVUDUWYGrhbtVQJxauMZE8FVAZFvv4QMlVkAtXCb9wllWQPVcXRiCjlZAvl2UM0HDVkCGXstOAPhWQE5fAmq/LFdAF2A5hX5hV0DfYHCgPZZXQKhhp7v8yldAcGLe1rv/V0A4YxXyejRYQAFkTA06aVhAyWSDKPmdWECSZbpDuNJYQFpm8V53B1lAImcoejY8WUDrZ1+V9XBZQLNolrC0pVlAfGnNy3PaWUBEagTnMg9aQAxrOwLyQ1pA1WtyHbF4WkCdbKk4cK1aQGZt4FMv4lpALm4Xb+4WW0D2bk6KrUtbQL5vhaVsgFtAh3C8wCu1W0BQcfPb6ulbQBhyKvepHlxA4HJhEmlTXECoc5gtKIhcQHF0z0jnvFxAOnUGZKbxXEACdj1/ZSZdQA==\",\"dtype\":\"float64\",\"order\":\"little\",\"shape\":[50]}},\"selected\":{\"id\":\"1573\"},\"selection_policy\":{\"id\":\"1572\"}},\"id\":\"1514\",\"type\":\"ColumnDataSource\"},{\"attributes\":{\"fill_alpha\":{\"value\":0.2},\"fill_color\":{\"value\":\"#0072B2\"},\"hatch_alpha\":{\"value\":0.2},\"line_alpha\":{\"value\":0.2},\"line_color\":{\"value\":\"#1f77b4\"},\"top\":{\"field\":\"top\"},\"width\":{\"value\":0.16483284067419504},\"x\":{\"field\":\"x\"}},\"id\":\"1517\",\"type\":\"VBar\"},{\"attributes\":{\"axis\":{\"id\":\"1492\"},\"coordinates\":null,\"group\":null,\"ticker\":null},\"id\":\"1495\",\"type\":\"Grid\"},{\"attributes\":{\"axis\":{\"id\":\"1496\"},\"coordinates\":null,\"dimension\":1,\"group\":null,\"ticker\":null},\"id\":\"1499\",\"type\":\"Grid\"}],\"root_ids\":[\"1481\"]},\"title\":\"Bokeh Application\",\"version\":\"2.4.2\"}};\n  const render_items = [{\"docid\":\"22134c1c-0346-4a86-b9b5-c86b4a1709ca\",\"root_ids\":[\"1481\"],\"roots\":{\"1481\":\"f567c374-e465-448f-8b8b-63c8e1938c9d\"}}];\n  root.Bokeh.embed.embed_items_notebook(docs_json, render_items);\n\n  }\n  if (root.Bokeh !== undefined) {\n    embed_document(root);\n  } else {\n    let attempts = 0;\n    const timer = setInterval(function(root) {\n      if (root.Bokeh !== undefined) {\n        clearInterval(timer);\n        embed_document(root);\n      } else {\n        attempts++;\n        if (attempts > 100) {\n          clearInterval(timer);\n          console.log(\"Bokeh: ERROR: Unable to run BokehJS code because BokehJS library is missing\");\n        }\n      }\n    }, 10, root)\n  }\n})(window);",
      "application/vnd.bokehjs_exec.v0+json": ""
     },
     "metadata": {
      "application/vnd.bokehjs_exec.v0+json": {
       "id": "1481"
      }
     },
     "output_type": "display_data"
    },
    {
     "name": "stdout",
     "output_type": "stream",
     "text": [
      "STANDARDIZED\n"
     ]
    },
    {
     "data": {
      "text/html": [
       "\n",
       "\n",
       "\n",
       "\n",
       "\n",
       "\n",
       "  <div class=\"bk-root\" id=\"bb371a20-6e0f-4f70-ada9-e08939c8728d\" data-root-id=\"1625\"></div>\n"
      ]
     },
     "metadata": {},
     "output_type": "display_data"
    },
    {
     "data": {
      "application/javascript": "(function(root) {\n  function embed_document(root) {\n    \n  const docs_json = {\"113fe7b3-cb4a-4d50-8b37-cd8536aea680\":{\"defs\":[],\"roots\":{\"references\":[{\"attributes\":{\"below\":[{\"id\":\"1636\"}],\"center\":[{\"id\":\"1639\"},{\"id\":\"1643\"},{\"id\":\"1664\"},{\"id\":\"1665\"},{\"id\":\"1666\"},{\"id\":\"1667\"},{\"id\":\"1668\"}],\"left\":[{\"id\":\"1640\"}],\"renderers\":[{\"id\":\"1662\"}],\"title\":{\"id\":\"1626\"},\"toolbar\":{\"id\":\"1651\"},\"x_range\":{\"id\":\"1628\"},\"x_scale\":{\"id\":\"1632\"},\"y_range\":{\"id\":\"1630\"},\"y_scale\":{\"id\":\"1634\"}},\"id\":\"1625\",\"subtype\":\"Figure\",\"type\":\"Plot\"},{\"attributes\":{\"fill_alpha\":{\"value\":0.1},\"fill_color\":{\"value\":\"#0072B2\"},\"hatch_alpha\":{\"value\":0.1},\"line_alpha\":{\"value\":0.1},\"line_color\":{\"value\":\"#1f77b4\"},\"top\":{\"field\":\"top\"},\"width\":{\"value\":0.03301073039033877},\"x\":{\"field\":\"x\"}},\"id\":\"1660\",\"type\":\"VBar\"},{\"attributes\":{},\"id\":\"1726\",\"type\":\"UnionRenderers\"},{\"attributes\":{},\"id\":\"1628\",\"type\":\"DataRange1d\"},{\"attributes\":{\"coordinates\":null,\"group\":null,\"text\":\"Distribution[-4.84, 3.41] len:1000, std:1.00, mean:-0.00, median:-0.02\"},\"id\":\"1626\",\"type\":\"Title\"},{\"attributes\":{\"fill_color\":{\"value\":\"#0072B2\"},\"line_color\":{\"value\":\"#1f77b4\"},\"top\":{\"field\":\"top\"},\"width\":{\"value\":0.03301073039033877},\"x\":{\"field\":\"x\"}},\"id\":\"1659\",\"type\":\"VBar\"},{\"attributes\":{\"coordinates\":null,\"formatter\":{\"id\":\"1721\"},\"group\":null,\"major_label_policy\":{\"id\":\"1722\"},\"ticker\":{\"id\":\"1641\"}},\"id\":\"1640\",\"type\":\"LinearAxis\"},{\"attributes\":{},\"id\":\"1727\",\"type\":\"Selection\"},{\"attributes\":{\"axis\":{\"id\":\"1636\"},\"coordinates\":null,\"group\":null,\"ticker\":null},\"id\":\"1639\",\"type\":\"Grid\"},{\"attributes\":{},\"id\":\"1630\",\"type\":\"DataRange1d\"},{\"attributes\":{},\"id\":\"1637\",\"type\":\"BasicTicker\"},{\"attributes\":{},\"id\":\"1632\",\"type\":\"LinearScale\"},{\"attributes\":{},\"id\":\"1721\",\"type\":\"BasicTickFormatter\"},{\"attributes\":{},\"id\":\"1634\",\"type\":\"LinearScale\"},{\"attributes\":{\"coordinates\":null,\"data_source\":{\"id\":\"1658\"},\"glyph\":{\"id\":\"1659\"},\"group\":null,\"hover_glyph\":null,\"muted_glyph\":{\"id\":\"1661\"},\"nonselection_glyph\":{\"id\":\"1660\"},\"view\":{\"id\":\"1663\"}},\"id\":\"1662\",\"type\":\"GlyphRenderer\"},{\"attributes\":{\"coordinates\":null,\"formatter\":{\"id\":\"1724\"},\"group\":null,\"major_label_policy\":{\"id\":\"1725\"},\"ticker\":{\"id\":\"1637\"}},\"id\":\"1636\",\"type\":\"LinearAxis\"},{\"attributes\":{},\"id\":\"1722\",\"type\":\"AllLabels\"},{\"attributes\":{},\"id\":\"1649\",\"type\":\"HelpTool\"},{\"attributes\":{},\"id\":\"1724\",\"type\":\"BasicTickFormatter\"},{\"attributes\":{\"coordinates\":null,\"fill_alpha\":0.2,\"fill_color\":\"#E69F00\",\"group\":null,\"left\":-1.0000000000000002,\"right\":0.9999999999999996},\"id\":\"1664\",\"type\":\"BoxAnnotation\"},{\"attributes\":{\"axis\":{\"id\":\"1640\"},\"coordinates\":null,\"dimension\":1,\"group\":null,\"ticker\":null},\"id\":\"1643\",\"type\":\"Grid\"},{\"attributes\":{},\"id\":\"1641\",\"type\":\"BasicTicker\"},{\"attributes\":{},\"id\":\"1725\",\"type\":\"AllLabels\"},{\"attributes\":{\"data\":{\"top\":{\"__ndarray__\":\"3kuiuPDQeD8AAAAAAAAAAAAAAAAAAAAAAAAAAAAAAAAAAAAAAAAAAAAAAAAAAAAAAAAAAAAAAAAAAAAAAAAAAN5Lorjw0Hg/AAAAAAAAAAAAAAAAAAAAAOa4eYq0nJI/3kuiuPDQiD/eS6K48NCIP95Lorjw0Ig/5rh5irSckj/W3srmLAWfP6XdA5bDKbQ/5rh5irScsj/W3srmLAW/Pxm6QNsdeL0/5rh5irScwj9/Od0yaQrIP3fMBWGlPs4/F0JcTfj/0j89Xmc+eJfZP2ICjqHSttU/r8K/9axt2D9t50kBvPrZPysM1AzLh9s/1GbmWAeN1D+dcCzE/13aP8IUUydafdY/whRTJ1p91j8ZukDbHXjNP8qBKvkdSdA/uad7VZaxzD9Gyz4QPGPDP51wLMT/Xbo/yoEq+R1JwD/W3srmLAWvP9beyuYsBZ8/1t7K5iwFnz/muHmKtJyiP+a4eYq0nJI/5rh5irSckj8AAAAAAAAAAAAAAAAAAAAAuEuiuPDQeD/yS6K48NB4Pw==\",\"dtype\":\"float64\",\"order\":\"little\",\"shape\":[50]},\"x\":{\"__ndarray__\":\"GcgeMLC0EsD66AldrAsSwNsJ9YmoYhHAvCrgtqS5EMCdS8vjoBAQwPzYbCE6zw7AvhpDezJ9DcCAXBnVKisMwEKe7y4j2QrABODFiBuHCcDGIZziEzUIwIhjcjwM4wbASqVIlgSRBcAM5x7w/D4EwM4o9Un17ALAkGrLo+2aAcBSrKH95UgAwCjc76687f2/rF+cYq1J+78w40gWnqX4v7Rm9cmOAfa/OOqhfX9d87+8bU4xcLnwv4Di9cnBKuy/iOlOMaPi5r+Q8KeYhJrhvzDvAQDMpNi/gPpnnR0pzL+AWjDrjCKsv4Can0+uL7w/kNg1xSic0T+AyoP2ZSzcPzje6JNRXuM/MNePLHCm6D8o0DbFju7tP5Dk7q5Wm/E/DGFC+2U/9D+I3ZVHdeP2PwRa6ZOEh/k/gNY84JMr/D/8UpAso8/+P7zncTzZuQBA+qWb4uALAkA4ZMWI6F0DQHYi7y7wrwRAtOAY1fcBBkDynkJ7/1MHQDBdbCEHpghAcBuWxw74CUCt2b9tFkoLQA==\",\"dtype\":\"float64\",\"order\":\"little\",\"shape\":[50]}},\"selected\":{\"id\":\"1727\"},\"selection_policy\":{\"id\":\"1726\"}},\"id\":\"1658\",\"type\":\"ColumnDataSource\"},{\"attributes\":{\"tools\":[{\"id\":\"1644\"},{\"id\":\"1645\"},{\"id\":\"1646\"},{\"id\":\"1647\"},{\"id\":\"1648\"},{\"id\":\"1649\"}]},\"id\":\"1651\",\"type\":\"Toolbar\"},{\"attributes\":{\"fill_alpha\":{\"value\":0.2},\"fill_color\":{\"value\":\"#0072B2\"},\"hatch_alpha\":{\"value\":0.2},\"line_alpha\":{\"value\":0.2},\"line_color\":{\"value\":\"#1f77b4\"},\"top\":{\"field\":\"top\"},\"width\":{\"value\":0.03301073039033877},\"x\":{\"field\":\"x\"}},\"id\":\"1661\",\"type\":\"VBar\"},{\"attributes\":{},\"id\":\"1645\",\"type\":\"WheelZoomTool\"},{\"attributes\":{},\"id\":\"1644\",\"type\":\"PanTool\"},{\"attributes\":{\"source\":{\"id\":\"1658\"}},\"id\":\"1663\",\"type\":\"CDSView\"},{\"attributes\":{\"overlay\":{\"id\":\"1650\"}},\"id\":\"1646\",\"type\":\"BoxZoomTool\"},{\"attributes\":{},\"id\":\"1647\",\"type\":\"SaveTool\"},{\"attributes\":{\"coordinates\":null,\"fill_alpha\":0.2,\"fill_color\":\"#F0E442\",\"group\":null,\"left\":-2.0,\"right\":-1.0000000000000002},\"id\":\"1665\",\"type\":\"BoxAnnotation\"},{\"attributes\":{},\"id\":\"1648\",\"type\":\"ResetTool\"},{\"attributes\":{\"coordinates\":null,\"fill_alpha\":0.2,\"fill_color\":\"#009E73\",\"group\":null,\"left\":1.9999999999999996,\"right\":3.4111755918667854},\"id\":\"1668\",\"type\":\"BoxAnnotation\"},{\"attributes\":{\"coordinates\":null,\"fill_alpha\":0.2,\"fill_color\":\"#F0E442\",\"group\":null,\"left\":0.9999999999999996,\"right\":1.9999999999999996},\"id\":\"1666\",\"type\":\"BoxAnnotation\"},{\"attributes\":{\"coordinates\":null,\"fill_alpha\":0.2,\"fill_color\":\"#009E73\",\"group\":null,\"left\":-4.841507005717908,\"right\":-2.0},\"id\":\"1667\",\"type\":\"BoxAnnotation\"},{\"attributes\":{\"bottom_units\":\"screen\",\"coordinates\":null,\"fill_alpha\":0.5,\"fill_color\":\"lightgrey\",\"group\":null,\"left_units\":\"screen\",\"level\":\"overlay\",\"line_alpha\":1.0,\"line_color\":\"black\",\"line_dash\":[4,4],\"line_width\":2,\"right_units\":\"screen\",\"syncable\":false,\"top_units\":\"screen\"},\"id\":\"1650\",\"type\":\"BoxAnnotation\"}],\"root_ids\":[\"1625\"]},\"title\":\"Bokeh Application\",\"version\":\"2.4.2\"}};\n  const render_items = [{\"docid\":\"113fe7b3-cb4a-4d50-8b37-cd8536aea680\",\"root_ids\":[\"1625\"],\"roots\":{\"1625\":\"bb371a20-6e0f-4f70-ada9-e08939c8728d\"}}];\n  root.Bokeh.embed.embed_items_notebook(docs_json, render_items);\n\n  }\n  if (root.Bokeh !== undefined) {\n    embed_document(root);\n  } else {\n    let attempts = 0;\n    const timer = setInterval(function(root) {\n      if (root.Bokeh !== undefined) {\n        clearInterval(timer);\n        embed_document(root);\n      } else {\n        attempts++;\n        if (attempts > 100) {\n          clearInterval(timer);\n          console.log(\"Bokeh: ERROR: Unable to run BokehJS code because BokehJS library is missing\");\n        }\n      }\n    }, 10, root)\n  }\n})(window);",
      "application/vnd.bokehjs_exec.v0+json": ""
     },
     "metadata": {
      "application/vnd.bokehjs_exec.v0+json": {
       "id": "1625"
      }
     },
     "output_type": "display_data"
    }
   ],
   "source": [
    "n = 1000\n",
    "mu, std = 100, 5\n",
    "bins = 50\n",
    "a, b = -2, 2\n",
    "\n",
    "print(\"RAW\")\n",
    "measured = np.random.normal(mu, std, n)\n",
    "plot_distribution(measured)\n",
    "\n",
    "print(\"STANDARDIZED\")\n",
    "standardized = standardize(measured)\n",
    "plot_distribution(standardized)"
   ]
  },
  {
   "cell_type": "markdown",
   "metadata": {},
   "source": [
    "## Normal approximation\n",
    "\n"
   ]
  },
  {
   "cell_type": "code",
   "execution_count": 13,
   "metadata": {},
   "outputs": [
    {
     "name": "stdout",
     "output_type": "stream",
     "text": [
      "[ 1.22387906  0.09872527  1.87902048 -1.09364503  0.41187673 -1.18343975\n",
      "  0.08560346 -1.31600634  0.42165283 -0.52766672]\n"
     ]
    }
   ],
   "source": [
    "# TODO: add code that computes z-scores, percentiles, and reverse z-score that allow to do normal approximation\n",
    "# Shorthand for z-scores\n",
    "x = np.random.normal(2, 0.5, 10)\n",
    "z = stats.zscore(x)\n",
    "print(z)\n",
    "\n",
    "# TODO: probably add CDF and PDF as well"
   ]
  },
  {
   "cell_type": "markdown",
   "metadata": {},
   "source": [
    "## Binomial setting and Normal approximation\n",
    "\n",
    "**Example:**\n",
    "\n",
    "What is the probability of it most $l$ successes from $n$ attempts.\n",
    "This is $l$ binomial settings that we can not sum together since they are not mutually exclusive and we would have to use *PIE* - *Principle of Inclusion and Exclusion*.\n",
    "\n",
    "Or we can approximate it, given that the binomial curve is similar to normal curve, something like $n>50$ and use normal approximation to determine this probability."
   ]
  },
  {
   "cell_type": "code",
   "execution_count": 14,
   "metadata": {},
   "outputs": [
    {
     "data": {
      "text/plain": [
       "230300"
      ]
     },
     "execution_count": 14,
     "metadata": {},
     "output_type": "execute_result"
    }
   ],
   "source": [
    "# TODO create binomial setting and compare number of draws to normal distribution\n",
    "n = 50\n",
    "k = 4\n",
    "math.comb(n, k)"
   ]
  },
  {
   "cell_type": "markdown",
   "metadata": {},
   "source": [
    "## Population, Parameters, Statistics, Samples and Standard Errors\n",
    "\n",
    "* population - population with parameters e.g. mu, std\n",
    "* parameter - property of population we want to estimate e.g. mean, std\n",
    "* statistics - value we estimate from sample\n",
    "* sample - draw from population\n",
    "* standard error (SE) - SE of statistics tells us how far off statistics is from its expected value - TRUE value of parameter\n",
    "    - $SE(x_n) = \\sigma / \\sqrt(n)$ -> **Squared root law** where $x_n$ bar is mean of sample of size $n$ from population ($\\mu$, $\\sigma$)\n",
    "    - it is *not* affected by the size of the population itself just by the size of the sample\n",
    "    - i.e. it gives us formula to get the sample size we want given the precision we want (assuming we know $\\sigma$)"
   ]
  },
  {
   "cell_type": "code",
   "execution_count": 15,
   "metadata": {},
   "outputs": [
    {
     "data": {
      "text/html": [
       "\n",
       "\n",
       "\n",
       "\n",
       "\n",
       "\n",
       "  <div class=\"bk-root\" id=\"695620fe-c757-4a5b-8419-e461e346bc3f\" data-root-id=\"1779\"></div>\n"
      ]
     },
     "metadata": {},
     "output_type": "display_data"
    },
    {
     "data": {
      "application/javascript": "(function(root) {\n  function embed_document(root) {\n    \n  const docs_json = {\"c35265a6-8f2c-46b4-8420-1ed2cdc73b24\":{\"defs\":[],\"roots\":{\"references\":[{\"attributes\":{\"below\":[{\"id\":\"1788\"}],\"center\":[{\"id\":\"1791\"},{\"id\":\"1795\"},{\"id\":\"1827\"}],\"left\":[{\"id\":\"1792\"}],\"renderers\":[{\"id\":\"1814\"},{\"id\":\"1833\"},{\"id\":\"1853\"},{\"id\":\"1875\"}],\"title\":{\"id\":\"1816\"},\"toolbar\":{\"id\":\"1803\"},\"x_range\":{\"id\":\"1780\"},\"x_scale\":{\"id\":\"1784\"},\"y_range\":{\"id\":\"1782\"},\"y_scale\":{\"id\":\"1786\"}},\"id\":\"1779\",\"subtype\":\"Figure\",\"type\":\"Plot\"},{\"attributes\":{\"axis_label\":\"sample size\",\"coordinates\":null,\"formatter\":{\"id\":\"1822\"},\"group\":null,\"major_label_policy\":{\"id\":\"1823\"},\"ticker\":{\"id\":\"1789\"}},\"id\":\"1788\",\"type\":\"LinearAxis\"},{\"attributes\":{},\"id\":\"1822\",\"type\":\"BasicTickFormatter\"},{\"attributes\":{},\"id\":\"1823\",\"type\":\"AllLabels\"},{\"attributes\":{\"data\":{\"x\":{\"__ndarray__\":\"AAAAAAAA8D8KXk7ByykIQApeTsHLKRRAD431obE+HEAKXk7ByykiQIz1obE+NCZAD431obE+KkCSJEmSJEkuQApeTsHLKTFAyyl4OQUvM0CM9aGxPjQ1QE7Byyl4OTdAD431obE+OUDQWB8a60M7QJIkSZIkST1AU/ByCl5OP0AKXk7By6lAQOtDY31orEFAyyl4OQWvQkCsD431obFDQIz1obE+tERAbdu2bdu2RUBOwcspeLlGQC6n4OUUvEdAD431obG+SEDwcgpeTsFJQNBYHxrrw0pAsT401ofGS0CSJEmSJMlMQHIKXk7By01AU/ByCl7OTkAz1ofG+tBPQApeTsHLaVBA+tBYHxrrUEDrQ2N9aGxRQNu2bdu27VFAyyl4OQVvUkC8nIKXU/BSQKwPjfWhcVNAnIKXU/DyU0CM9aGxPnRUQH1orA+N9VRAbdu2bdt2VUBdTsHLKfhVQE7Byyl4eVZAPjTWh8b6VkAup+DlFHxXQB8a60Nj/VdAD431obF+WEAAAAAAAABZQA==\",\"dtype\":\"float64\",\"order\":\"little\",\"shape\":[50]},\"y\":{\"__ndarray__\":\"AAAAAAAA4D8C3tzTpWnSP6j/YjVsgcw/flWHQqoVyD+E8yyMuzzFP++zVxo1NcM/woL0a9qqwT8sfAs1VHLAP0hY7mmE5b4/VTiBkms5vT9sW2ngEcy7P0ZsVXZ/j7o/lBp/Erx5uT+OpTe6coO4P4FmWB0cp7c/h2EgJ3bgtj8BDxbPKSy2P0WnRLWNh7U/tRSjRHvwtD98TFIYMGW0P3Cm/bI35LM/sJIZ/Fpssz+oR9jSk/yyP0LoN5IDlLI/wcAivOsxsj87oKk9qNWxP3id+OaqfrE/DZGSzXcssT+pKeNiot6wPzJYDhfLlLA/THvWaZ1OsD/ZObBSzguwPwVk39w1mK8/6ozkyY4erz8NjEf4O6quPy/aAaDcOq4/VjzpURnQrT8CrIbWommtP7zphDYxB60/9czS5YKorD+1Md4LXE2sP4dqUeSF9as/r5qNNM6gqz/k3MPSBk+rP5prFjwFAKs/A+OYN6Kzqj/xZGCEuWmqP4byHZEpIqo/Teb5O9PcqT+amZmZmZmpPw==\",\"dtype\":\"float64\",\"order\":\"little\",\"shape\":[50]}},\"selected\":{\"id\":\"1825\"},\"selection_policy\":{\"id\":\"1824\"}},\"id\":\"1810\",\"type\":\"ColumnDataSource\"},{\"attributes\":{},\"id\":\"1789\",\"type\":\"BasicTicker\"},{\"attributes\":{\"coordinates\":null,\"data_source\":{\"id\":\"1810\"},\"glyph\":{\"id\":\"1811\"},\"group\":null,\"hover_glyph\":null,\"muted_glyph\":{\"id\":\"1813\"},\"nonselection_glyph\":{\"id\":\"1812\"},\"view\":{\"id\":\"1815\"}},\"id\":\"1814\",\"type\":\"GlyphRenderer\"},{\"attributes\":{\"source\":{\"id\":\"1810\"}},\"id\":\"1815\",\"type\":\"CDSView\"},{\"attributes\":{\"axis\":{\"id\":\"1788\"},\"coordinates\":null,\"group\":null,\"ticker\":null},\"id\":\"1791\",\"type\":\"Grid\"},{\"attributes\":{\"axis\":{\"id\":\"1792\"},\"coordinates\":null,\"dimension\":1,\"group\":null,\"ticker\":null},\"id\":\"1795\",\"type\":\"Grid\"},{\"attributes\":{\"line_alpha\":0.2,\"line_color\":\"#0072B2\",\"x\":{\"field\":\"x\"},\"y\":{\"field\":\"y\"}},\"id\":\"1813\",\"type\":\"Line\"},{\"attributes\":{},\"id\":\"1801\",\"type\":\"HelpTool\"},{\"attributes\":{\"tools\":[{\"id\":\"1796\"},{\"id\":\"1797\"},{\"id\":\"1798\"},{\"id\":\"1799\"},{\"id\":\"1800\"},{\"id\":\"1801\"}]},\"id\":\"1803\",\"type\":\"Toolbar\"},{\"attributes\":{\"axis_label\":\"SE\",\"coordinates\":null,\"formatter\":{\"id\":\"1819\"},\"group\":null,\"major_label_policy\":{\"id\":\"1820\"},\"ticker\":{\"id\":\"1793\"}},\"id\":\"1792\",\"type\":\"LogAxis\"},{\"attributes\":{\"line_color\":\"#0072B2\",\"x\":{\"field\":\"x\"},\"y\":{\"field\":\"y\"}},\"id\":\"1811\",\"type\":\"Line\"},{\"attributes\":{\"coordinates\":null,\"group\":null},\"id\":\"1816\",\"type\":\"Title\"},{\"attributes\":{},\"id\":\"1780\",\"type\":\"DataRange1d\"},{\"attributes\":{\"coordinates\":null,\"group\":null,\"items\":[{\"id\":\"1828\"},{\"id\":\"1848\"},{\"id\":\"1870\"},{\"id\":\"1894\"}]},\"id\":\"1827\",\"type\":\"Legend\"},{\"attributes\":{},\"id\":\"1782\",\"type\":\"DataRange1d\"},{\"attributes\":{\"num_minor_ticks\":10},\"id\":\"1793\",\"type\":\"LogTicker\"},{\"attributes\":{},\"id\":\"1797\",\"type\":\"WheelZoomTool\"},{\"attributes\":{},\"id\":\"1796\",\"type\":\"PanTool\"},{\"attributes\":{},\"id\":\"1824\",\"type\":\"UnionRenderers\"},{\"attributes\":{\"overlay\":{\"id\":\"1802\"}},\"id\":\"1798\",\"type\":\"BoxZoomTool\"},{\"attributes\":{},\"id\":\"1799\",\"type\":\"SaveTool\"},{\"attributes\":{},\"id\":\"1800\",\"type\":\"ResetTool\"},{\"attributes\":{},\"id\":\"1825\",\"type\":\"Selection\"},{\"attributes\":{\"bottom_units\":\"screen\",\"coordinates\":null,\"fill_alpha\":0.5,\"fill_color\":\"lightgrey\",\"group\":null,\"left_units\":\"screen\",\"level\":\"overlay\",\"line_alpha\":1.0,\"line_color\":\"black\",\"line_dash\":[4,4],\"line_width\":2,\"right_units\":\"screen\",\"syncable\":false,\"top_units\":\"screen\"},\"id\":\"1802\",\"type\":\"BoxAnnotation\"},{\"attributes\":{},\"id\":\"1891\",\"type\":\"UnionRenderers\"},{\"attributes\":{\"coordinates\":null,\"data_source\":{\"id\":\"1871\"},\"glyph\":{\"id\":\"1872\"},\"group\":null,\"hover_glyph\":null,\"muted_glyph\":{\"id\":\"1874\"},\"nonselection_glyph\":{\"id\":\"1873\"},\"view\":{\"id\":\"1876\"}},\"id\":\"1875\",\"type\":\"GlyphRenderer\"},{\"attributes\":{},\"id\":\"1786\",\"type\":\"LogScale\"},{\"attributes\":{\"line_alpha\":0.2,\"line_color\":\"#E69F00\",\"x\":{\"field\":\"x\"},\"y\":{\"field\":\"y\"}},\"id\":\"1832\",\"type\":\"Line\"},{\"attributes\":{\"line_alpha\":0.2,\"line_color\":\"#009E73\",\"x\":{\"field\":\"x\"},\"y\":{\"field\":\"y\"}},\"id\":\"1874\",\"type\":\"Line\"},{\"attributes\":{},\"id\":\"1867\",\"type\":\"UnionRenderers\"},{\"attributes\":{\"data\":{\"x\":{\"__ndarray__\":\"AAAAAAAA8D8KXk7ByykIQApeTsHLKRRAD431obE+HEAKXk7ByykiQIz1obE+NCZAD431obE+KkCSJEmSJEkuQApeTsHLKTFAyyl4OQUvM0CM9aGxPjQ1QE7Byyl4OTdAD431obE+OUDQWB8a60M7QJIkSZIkST1AU/ByCl5OP0AKXk7By6lAQOtDY31orEFAyyl4OQWvQkCsD431obFDQIz1obE+tERAbdu2bdu2RUBOwcspeLlGQC6n4OUUvEdAD431obG+SEDwcgpeTsFJQNBYHxrrw0pAsT401ofGS0CSJEmSJMlMQHIKXk7By01AU/ByCl7OTkAz1ofG+tBPQApeTsHLaVBA+tBYHxrrUEDrQ2N9aGxRQNu2bdu27VFAyyl4OQVvUkC8nIKXU/BSQKwPjfWhcVNAnIKXU/DyU0CM9aGxPnRUQH1orA+N9VRAbdu2bdt2VUBdTsHLKfhVQE7Byyl4eVZAPjTWh8b6VkAup+DlFHxXQB8a60Nj/VdAD431obF+WEAAAAAAAABZQA==\",\"dtype\":\"float64\",\"order\":\"little\",\"shape\":[50]},\"y\":{\"__ndarray__\":\"AAAAAAAANECDFdRIDwQnQMnfXaHj0CFA3iop0xQbHkBlMDhv6osaQOug7WCCAhhAc6PxBpEVFkA2W05C6Y4UQC33NMJyTxNANcOQO+NDEkAk2UEsi18RQKxj9amvmRBAOeEeFyvYD0DxjsVoT6QOQCGAriTjkA1A6XnosJOYDEDCkttCNLcLQBfRlSJx6QpA4tnLFZosCkCa32YefH4JQAwQvZ9F3QhAXfcfu3FHCECSWY7HuLsHQFLixXYEOQdA8XArq2a+BkBKCBRNEksGQNbEtqBV3gVAUDX3wJV3BUAT9Jv7ShYFQD7u0dz9uQRAIBpMxERiBEBPSFznwQ4EQIOeC6ohvwNAEtguPhlzA0CItyx7ZSoDQF4oAeTJ5AJAtsUx0w+iAkCBKxTGBWICQBUSE8J+JAJAGcCjz1HpAUAR32qHWbABQJXisq5zeQFArYDY4IBEAUAOarpDZBEBQEADjkUD4ABA4o2/YkWwAEAXP7zyE4IAQJS3svpZVQBA8C98BQQqAEAAAAAAAAAAQA==\",\"dtype\":\"float64\",\"order\":\"little\",\"shape\":[50]}},\"selected\":{\"id\":\"1892\"},\"selection_policy\":{\"id\":\"1891\"}},\"id\":\"1871\",\"type\":\"ColumnDataSource\"},{\"attributes\":{\"line_alpha\":0.2,\"line_color\":\"#F0E442\",\"x\":{\"field\":\"x\"},\"y\":{\"field\":\"y\"}},\"id\":\"1852\",\"type\":\"Line\"},{\"attributes\":{\"data\":{\"x\":{\"__ndarray__\":\"AAAAAAAA8D8KXk7ByykIQApeTsHLKRRAD431obE+HEAKXk7ByykiQIz1obE+NCZAD431obE+KkCSJEmSJEkuQApeTsHLKTFAyyl4OQUvM0CM9aGxPjQ1QE7Byyl4OTdAD431obE+OUDQWB8a60M7QJIkSZIkST1AU/ByCl5OP0AKXk7By6lAQOtDY31orEFAyyl4OQWvQkCsD431obFDQIz1obE+tERAbdu2bdu2RUBOwcspeLlGQC6n4OUUvEdAD431obG+SEDwcgpeTsFJQNBYHxrrw0pAsT401ofGS0CSJEmSJMlMQHIKXk7By01AU/ByCl7OTkAz1ofG+tBPQApeTsHLaVBA+tBYHxrrUEDrQ2N9aGxRQNu2bdu27VFAyyl4OQVvUkC8nIKXU/BSQKwPjfWhcVNAnIKXU/DyU0CM9aGxPnRUQH1orA+N9VRAbdu2bdt2VUBdTsHLKfhVQE7Byyl4eVZAPjTWh8b6VkAup+DlFHxXQB8a60Nj/VdAD431obF+WEAAAAAAAABZQA==\",\"dtype\":\"float64\",\"order\":\"little\",\"shape\":[50]},\"y\":{\"__ndarray__\":\"AAAAAAAA8D8C3tzTpWniP6j/YjVsgdw/flWHQqoV2D+E8yyMuzzVP++zVxo1NdM/woL0a9qq0T8sfAs1VHLQP0hY7mmE5c4/VTiBkms5zT9sW2ngEczLP0ZsVXZ/j8o/lBp/Erx5yT+OpTe6coPIP4FmWB0cp8c/h2EgJ3bgxj8BDxbPKSzGP0WnRLWNh8U/tRSjRHvwxD98TFIYMGXEP3Cm/bI35MM/sJIZ/Fpswz+oR9jSk/zCP0LoN5IDlMI/wcAivOsxwj87oKk9qNXBP3id+OaqfsE/DZGSzXcswT+pKeNiot7APzJYDhfLlMA/THvWaZ1OwD/ZObBSzgvAPwVk39w1mL8/6ozkyY4evz8NjEf4O6q+Py/aAaDcOr4/VjzpURnQvT8CrIbWomm9P7zphDYxB70/9czS5YKovD+1Md4LXE28P4dqUeSF9bs/r5qNNM6guz/k3MPSBk+7P5prFjwFALs/A+OYN6Kzuj/xZGCEuWm6P4byHZEpIro/Teb5O9PcuT+amZmZmZm5Pw==\",\"dtype\":\"float64\",\"order\":\"little\",\"shape\":[50]}},\"selected\":{\"id\":\"1846\"},\"selection_policy\":{\"id\":\"1845\"}},\"id\":\"1829\",\"type\":\"ColumnDataSource\"},{\"attributes\":{\"line_color\":\"#009E73\",\"x\":{\"field\":\"x\"},\"y\":{\"field\":\"y\"}},\"id\":\"1872\",\"type\":\"Line\"},{\"attributes\":{\"line_color\":\"#E69F00\",\"x\":{\"field\":\"x\"},\"y\":{\"field\":\"y\"}},\"id\":\"1830\",\"type\":\"Line\"},{\"attributes\":{\"source\":{\"id\":\"1871\"}},\"id\":\"1876\",\"type\":\"CDSView\"},{\"attributes\":{\"data\":{\"x\":{\"__ndarray__\":\"AAAAAAAA8D8KXk7ByykIQApeTsHLKRRAD431obE+HEAKXk7ByykiQIz1obE+NCZAD431obE+KkCSJEmSJEkuQApeTsHLKTFAyyl4OQUvM0CM9aGxPjQ1QE7Byyl4OTdAD431obE+OUDQWB8a60M7QJIkSZIkST1AU/ByCl5OP0AKXk7By6lAQOtDY31orEFAyyl4OQWvQkCsD431obFDQIz1obE+tERAbdu2bdu2RUBOwcspeLlGQC6n4OUUvEdAD431obG+SEDwcgpeTsFJQNBYHxrrw0pAsT401ofGS0CSJEmSJMlMQHIKXk7By01AU/ByCl7OTkAz1ofG+tBPQApeTsHLaVBA+tBYHxrrUEDrQ2N9aGxRQNu2bdu27VFAyyl4OQVvUkC8nIKXU/BSQKwPjfWhcVNAnIKXU/DyU0CM9aGxPnRUQH1orA+N9VRAbdu2bdt2VUBdTsHLKfhVQE7Byyl4eVZAPjTWh8b6VkAup+DlFHxXQB8a60Nj/VdAD431obF+WEAAAAAAAABZQA==\",\"dtype\":\"float64\",\"order\":\"little\",\"shape\":[50]},\"y\":{\"__ndarray__\":\"AAAAAAAAJECDFdRIDwQXQMnfXaHj0BFA3iop0xQbDkBlMDhv6osKQOug7WCCAghAc6PxBpEVBkA2W05C6Y4EQC33NMJyTwNANcOQO+NDAkAk2UEsi18BQKxj9amvmQBAOeEeFyvY/z/xjsVoT6T+PyGAriTjkP0/6XnosJOY/D/CkttCNLf7PxfRlSJx6fo/4tnLFZos+j+a32YefH75PwwQvZ9F3fg/Xfcfu3FH+D+SWY7HuLv3P1LixXYEOfc/8XArq2a+9j9KCBRNEkv2P9bEtqBV3vU/UDX3wJV39T8T9Jv7Shb1Pz7u0dz9ufQ/IBpMxERi9D9PSFznwQ70P4OeC6ohv/M/EtguPhlz8z+Ityx7ZSrzP14oAeTJ5PI/tsUx0w+i8j+BKxTGBWLyPxUSE8J+JPI/GcCjz1Hp8T8R32qHWbDxP5Xisq5zefE/rYDY4IBE8T8OarpDZBHxP0ADjkUD4PA/4o2/YkWw8D8XP7zyE4LwP5S3svpZVfA/8C98BQQq8D8AAAAAAADwPw==\",\"dtype\":\"float64\",\"order\":\"little\",\"shape\":[50]}},\"selected\":{\"id\":\"1868\"},\"selection_policy\":{\"id\":\"1867\"}},\"id\":\"1849\",\"type\":\"ColumnDataSource\"},{\"attributes\":{\"source\":{\"id\":\"1829\"}},\"id\":\"1834\",\"type\":\"CDSView\"},{\"attributes\":{\"line_alpha\":0.1,\"line_color\":\"#009E73\",\"x\":{\"field\":\"x\"},\"y\":{\"field\":\"y\"}},\"id\":\"1873\",\"type\":\"Line\"},{\"attributes\":{\"line_color\":\"#F0E442\",\"x\":{\"field\":\"x\"},\"y\":{\"field\":\"y\"}},\"id\":\"1850\",\"type\":\"Line\"},{\"attributes\":{\"line_alpha\":0.1,\"line_color\":\"#E69F00\",\"x\":{\"field\":\"x\"},\"y\":{\"field\":\"y\"}},\"id\":\"1831\",\"type\":\"Line\"},{\"attributes\":{\"ticker\":null},\"id\":\"1819\",\"type\":\"LogTickFormatter\"},{\"attributes\":{\"source\":{\"id\":\"1849\"}},\"id\":\"1854\",\"type\":\"CDSView\"},{\"attributes\":{},\"id\":\"1784\",\"type\":\"LinearScale\"},{\"attributes\":{\"coordinates\":null,\"data_source\":{\"id\":\"1849\"},\"glyph\":{\"id\":\"1850\"},\"group\":null,\"hover_glyph\":null,\"muted_glyph\":{\"id\":\"1852\"},\"nonselection_glyph\":{\"id\":\"1851\"},\"view\":{\"id\":\"1854\"}},\"id\":\"1853\",\"type\":\"GlyphRenderer\"},{\"attributes\":{\"line_alpha\":0.1,\"line_color\":\"#F0E442\",\"x\":{\"field\":\"x\"},\"y\":{\"field\":\"y\"}},\"id\":\"1851\",\"type\":\"Line\"},{\"attributes\":{},\"id\":\"1845\",\"type\":\"UnionRenderers\"},{\"attributes\":{},\"id\":\"1892\",\"type\":\"Selection\"},{\"attributes\":{\"label\":{\"value\":\"std=20\"},\"renderers\":[{\"id\":\"1875\"}]},\"id\":\"1894\",\"type\":\"LegendItem\"},{\"attributes\":{},\"id\":\"1868\",\"type\":\"Selection\"},{\"attributes\":{},\"id\":\"1820\",\"type\":\"AllLabels\"},{\"attributes\":{\"label\":{\"value\":\"std=1\"},\"renderers\":[{\"id\":\"1833\"}]},\"id\":\"1848\",\"type\":\"LegendItem\"},{\"attributes\":{\"line_alpha\":0.1,\"line_color\":\"#0072B2\",\"x\":{\"field\":\"x\"},\"y\":{\"field\":\"y\"}},\"id\":\"1812\",\"type\":\"Line\"},{\"attributes\":{\"label\":{\"value\":\"std=10\"},\"renderers\":[{\"id\":\"1853\"}]},\"id\":\"1870\",\"type\":\"LegendItem\"},{\"attributes\":{\"label\":{\"value\":\"std=0.5\"},\"renderers\":[{\"id\":\"1814\"}]},\"id\":\"1828\",\"type\":\"LegendItem\"},{\"attributes\":{\"coordinates\":null,\"data_source\":{\"id\":\"1829\"},\"glyph\":{\"id\":\"1830\"},\"group\":null,\"hover_glyph\":null,\"muted_glyph\":{\"id\":\"1832\"},\"nonselection_glyph\":{\"id\":\"1831\"},\"view\":{\"id\":\"1834\"}},\"id\":\"1833\",\"type\":\"GlyphRenderer\"},{\"attributes\":{},\"id\":\"1846\",\"type\":\"Selection\"}],\"root_ids\":[\"1779\"]},\"title\":\"Bokeh Application\",\"version\":\"2.4.2\"}};\n  const render_items = [{\"docid\":\"c35265a6-8f2c-46b4-8420-1ed2cdc73b24\",\"root_ids\":[\"1779\"],\"roots\":{\"1779\":\"695620fe-c757-4a5b-8419-e461e346bc3f\"}}];\n  root.Bokeh.embed.embed_items_notebook(docs_json, render_items);\n\n  }\n  if (root.Bokeh !== undefined) {\n    embed_document(root);\n  } else {\n    let attempts = 0;\n    const timer = setInterval(function(root) {\n      if (root.Bokeh !== undefined) {\n        clearInterval(timer);\n        embed_document(root);\n      } else {\n        attempts++;\n        if (attempts > 100) {\n          clearInterval(timer);\n          console.log(\"Bokeh: ERROR: Unable to run BokehJS code because BokehJS library is missing\");\n        }\n      }\n    }, 10, root)\n  }\n})(window);",
      "application/vnd.bokehjs_exec.v0+json": ""
     },
     "metadata": {
      "application/vnd.bokehjs_exec.v0+json": {
       "id": "1779"
      }
     },
     "output_type": "display_data"
    }
   ],
   "source": [
    "stds = [0.5, 1, 10, 20]\n",
    "sample_size = np.linspace(1, 100)\n",
    "\n",
    "assert len(stds) <= len(palette), \"Can't distinguish that many standard deviations\"\n",
    "\n",
    "p = figure(y_axis_type=\"log\", x_axis_label=\"sample size\", y_axis_label=\"SE\")\n",
    "for idx, std in enumerate(stds):\n",
    "    se = std / np.sqrt(sample_size)\n",
    "    p.line(x=sample_size, y=se, line_color=palette[idx], legend_label=f\"std={std}\")\n",
    "show(p)"
   ]
  },
  {
   "cell_type": "markdown",
   "metadata": {},
   "source": [
    "## EV and SE of Sum, Percentages\n",
    "\n",
    "**Sums**\n",
    "\n",
    "If we are interested in sum of $n$ draws $S_n$ rather than the average $\\bar{x_n}$?\n",
    "\n",
    "$$\n",
    "S_n = n * x_n\n",
    "\\\\\n",
    "E(S_n) = n * mu\n",
    "\\\\\n",
    "SE(S_n) = sqrt(n) * std\n",
    "\\\\\n",
    "$$\n",
    "\n",
    "Careful that while with the increasing sample size $n$ the $SE(x_n)$ goes down the $SE(S_n)$ increases.\n",
    "\n",
    "\n",
    "**Percentages**\n",
    "\n",
    "*Question:* What percentage of likely voters approve of the way the US Presedent is handling his job?\n",
    "\n",
    "Each voter either approves (labeled `1`) or not (labeled `0`). Then the answer is the sum of all the labels.\n",
    "\n",
    "$S_n$ is the number of voters that approve.\n",
    "\n",
    "$$\n",
    "E(\\text{percentage of 1s}) = \\mu * 100\\%\n",
    "\\\\\n",
    "SE(\\text{percentage of 1s}) = \\frac{\\sigma}{\\sqrt{n}} * 100\\%\n",
    "$$\n",
    "\n",
    "These hold only for draw with replacement, however with small $\\text{sample\\_size} / \\text{population\\_size}$ it is alright.\n",
    "\n",
    "**Expected Value and Standard Error**\n",
    "\n",
    "Fox variable $x$ that has $k$ possible values - $x_1, x_2, ... x_k$\n",
    "\n",
    "$$\n",
    "E(\\mu) = \\sum[P(x_i) * x_i for x_i in values]) / n\n",
    "\\\\\n",
    "E(sum) = n * \\mu\n",
    "$$\n",
    "\n",
    "And its Standard Error\n",
    "\n",
    "$$\n",
    "\\sigma^2 = \\sum_{i=1}^n (x_i - x_n)^2 * P(x_i)\n",
    "\\\\\n",
    "SE(sum) = \\sqrt{n} * \\sigma\n",
    "$$\n"
   ]
  },
  {
   "cell_type": "markdown",
   "metadata": {},
   "source": [
    "## Three types of histograms\n",
    "\n",
    "1. Probability histogram\n",
    "2. Sample histogram / Empirical histogram of real data\n",
    "3. Probability histogram of statistics e.g. $S_{100} = \\text{number of tails in 100 throws}$"
   ]
  },
  {
   "cell_type": "markdown",
   "metadata": {},
   "source": [
    "## Law of Large numbers\n",
    "\n",
    "> The square root law says that $SE(x_n)$, the standard error of the sample mean, goes to zero as the sample size increases.\n",
    "> Therefore the $x_n$ will be close to its expected value $\\mu$ if the sample size is large.\n",
    "\n",
    "It applies to averages and therefore also percentages but not for sums as their SE increases.\n",
    "This has to be sampling with replacement."
   ]
  },
  {
   "cell_type": "markdown",
   "metadata": {},
   "source": [
    "## Central Limit Theorem\n",
    "\n",
    "> When sampling with replacement and $n$ is *large*, then the sampling distribution of the sample sum (or average or percentage) approximately follows the normal curve.\n",
    "\n",
    "* statistics has to be sum, however averages and percentages are also sums so we can use CLT.\n",
    "* thus for random variable $X$ representing some statistics we can use normal approximation - to standardize $z_i = \\frac{x_i - E(X)}{SE(X)}$\n",
    "* the more skewed the population distribution is the bigger sample size $n$ we need"
   ]
  },
  {
   "cell_type": "markdown",
   "metadata": {},
   "source": [
    "# Week 4 - predictions, regression"
   ]
  },
  {
   "cell_type": "markdown",
   "metadata": {},
   "source": [
    "## Correlation coefficient\n",
    "\n",
    "$$\n",
    "r = \\frac{1}{n} * \\sum_{i=1}^{n} \\frac{x_i - x_n}{\\sigma_x} * \\frac{y_i - y_n}{\\sigma{y}}\n",
    "  = \\frac{1}{n} * \\sum_{i=1}^n zscore(x_i) * zscore(y_i)\n",
    "$$\n",
    "\n",
    "If both $x$ and $y$ are above/below their respective mean correlation coefficient is positive otherwise it is negative."
   ]
  },
  {
   "cell_type": "code",
   "execution_count": 16,
   "metadata": {},
   "outputs": [
    {
     "name": "stdout",
     "output_type": "stream",
     "text": [
      "r = 0.89\n",
      "corrcoef = 0.89\n"
     ]
    },
    {
     "data": {
      "text/html": [
       "\n",
       "\n",
       "\n",
       "\n",
       "\n",
       "\n",
       "  <div class=\"bk-root\" id=\"a70a7ab9-80b1-46c8-8aba-cfdc71061a66\" data-root-id=\"2057\"></div>\n"
      ]
     },
     "metadata": {},
     "output_type": "display_data"
    },
    {
     "data": {
      "application/javascript": "(function(root) {\n  function embed_document(root) {\n    \n  const docs_json = {\"4ce2daaa-e3b0-4eec-b4bc-743ee1cb89da\":{\"defs\":[],\"roots\":{\"references\":[{\"attributes\":{\"below\":[{\"id\":\"2068\"}],\"center\":[{\"id\":\"2071\"},{\"id\":\"2075\"}],\"left\":[{\"id\":\"2072\"}],\"renderers\":[{\"id\":\"2094\"},{\"id\":\"2100\"}],\"title\":{\"id\":\"2058\"},\"toolbar\":{\"id\":\"2083\"},\"x_range\":{\"id\":\"2060\"},\"x_scale\":{\"id\":\"2064\"},\"y_range\":{\"id\":\"2062\"},\"y_scale\":{\"id\":\"2066\"}},\"id\":\"2057\",\"subtype\":\"Figure\",\"type\":\"Plot\"},{\"attributes\":{\"fill_color\":{\"value\":\"#1f77b4\"},\"line_color\":{\"value\":\"#1f77b4\"},\"x\":{\"field\":\"x\"},\"y\":{\"field\":\"y\"}},\"id\":\"2091\",\"type\":\"Scatter\"},{\"attributes\":{\"data\":{\"x\":{\"__ndarray__\":\"AAAAAAAAAACIxvrQWB/KP4jG+tBYH9o/5hS8nIKX4z+IxvrQWB/qPxW8nIKXU/A/5hS8nIKX8z+3bdu2bdv2P4jG+tBYH/o/WR8a60Nj/T8VvJyCl1MAQH5orA+N9QFA5hS8nIKXA0BOwcspeDkFQLdt27Zt2wZAIBrrQ2N9CECIxvrQWB8KQPByCl5OwQtAWR8a60NjDUDCyyl4OQUPQBW8nIKXUxBASZIkSZIkEUB+aKwPjfURQLI+NNaHxhJA5hS8nIKXE0Aa60NjfWgUQE7Byyl4ORVAg5dT8HIKFkC3bdu2bdsWQOtDY31orBdAIBrrQ2N9GEBU8HIKXk4ZQIjG+tBYHxpAvJyCl1PwGkDwcgpeTsEbQCVJkiRJkhxAWR8a60NjHUCN9aGxPjQeQMLLKXg5BR9A9qGxPjTWH0AVvJyCl1MgQC+n4OUUvCBASZIkSZIkIUBjfWisD40hQH5orA+N9SFAmFPwcgpeIkCyPjTWh8YiQMwpeDkFLyNA5hS8nIKXI0AAAAAAAAAkQA==\",\"dtype\":\"float64\",\"order\":\"little\",\"shape\":[50]},\"y\":{\"__ndarray__\":\"AAAAAAAAAAA20saxGirHPzbSxrEaKtc/qR1VBZRf4T820saxGirnP8SGOF6h9Ow/qR1VBZRf8T/w941b10T0PzbSxrEaKvc/faz/B14P+j/EhjheofT8PwxhcbTk2f8/qR1VBZRfAUDMinGwNdICQPD3jVvXRARAE2WqBnm3BUA20saxGioHQFk/41y8nAhAfaz/B14PCkChGRyz/4ELQMSGOF6h9AxA5/NUCUNnDkAMYXG05NkPQBfnxi9DphBAqR1VBZRfEUA6VOPa5BgSQMyKcbA10hJAXsH/hYaLE0Dw941b10QUQIEuHDEo/hRAE2WqBnm3FUClmzjcyXAWQDbSxrEaKhdAyAhVh2vjF0BZP+NcvJwYQOx1cTINVhlAfaz/B14PGkAP443drsgaQKEZHLP/gRtAMlCqiFA7HEDEhjheofQcQFW9xjPyrR1A5/NUCUNnHkB4KuPekyAfQAxhcbTk2R9Az8v/xJpJIEAX58YvQ6YgQGACjprrAiFAqR1VBZRfIUDyOBxwPLwhQA==\",\"dtype\":\"float64\",\"order\":\"little\",\"shape\":[50]}},\"selected\":{\"id\":\"2189\"},\"selection_policy\":{\"id\":\"2188\"}},\"id\":\"2096\",\"type\":\"ColumnDataSource\"},{\"attributes\":{},\"id\":\"2060\",\"type\":\"DataRange1d\"},{\"attributes\":{},\"id\":\"2062\",\"type\":\"DataRange1d\"},{\"attributes\":{\"fill_alpha\":{\"value\":0.2},\"fill_color\":{\"value\":\"#1f77b4\"},\"hatch_alpha\":{\"value\":0.2},\"line_alpha\":{\"value\":0.2},\"line_color\":{\"value\":\"#1f77b4\"},\"x\":{\"field\":\"x\"},\"y\":{\"field\":\"y\"}},\"id\":\"2093\",\"type\":\"Scatter\"},{\"attributes\":{\"source\":{\"id\":\"2096\"}},\"id\":\"2101\",\"type\":\"CDSView\"},{\"attributes\":{\"coordinates\":null,\"data_source\":{\"id\":\"2096\"},\"glyph\":{\"id\":\"2097\"},\"group\":null,\"hover_glyph\":null,\"muted_glyph\":{\"id\":\"2099\"},\"nonselection_glyph\":{\"id\":\"2098\"},\"view\":{\"id\":\"2101\"}},\"id\":\"2100\",\"type\":\"GlyphRenderer\"},{\"attributes\":{},\"id\":\"2066\",\"type\":\"LinearScale\"},{\"attributes\":{\"coordinates\":null,\"group\":null,\"text\":\"corrcoef=0.89\"},\"id\":\"2058\",\"type\":\"Title\"},{\"attributes\":{\"coordinates\":null,\"formatter\":{\"id\":\"2181\"},\"group\":null,\"major_label_policy\":{\"id\":\"2182\"},\"ticker\":{\"id\":\"2073\"}},\"id\":\"2072\",\"type\":\"LinearAxis\"},{\"attributes\":{},\"id\":\"2069\",\"type\":\"BasicTicker\"},{\"attributes\":{\"axis\":{\"id\":\"2068\"},\"coordinates\":null,\"group\":null,\"ticker\":null},\"id\":\"2071\",\"type\":\"Grid\"},{\"attributes\":{},\"id\":\"2188\",\"type\":\"UnionRenderers\"},{\"attributes\":{},\"id\":\"2064\",\"type\":\"LinearScale\"},{\"attributes\":{\"line_alpha\":0.1,\"line_color\":\"red\",\"x\":{\"field\":\"x\"},\"y\":{\"field\":\"y\"}},\"id\":\"2098\",\"type\":\"Line\"},{\"attributes\":{\"coordinates\":null,\"formatter\":{\"id\":\"2184\"},\"group\":null,\"major_label_policy\":{\"id\":\"2185\"},\"ticker\":{\"id\":\"2069\"}},\"id\":\"2068\",\"type\":\"LinearAxis\"},{\"attributes\":{},\"id\":\"2181\",\"type\":\"BasicTickFormatter\"},{\"attributes\":{},\"id\":\"2081\",\"type\":\"HelpTool\"},{\"attributes\":{},\"id\":\"2189\",\"type\":\"Selection\"},{\"attributes\":{\"tools\":[{\"id\":\"2076\"},{\"id\":\"2077\"},{\"id\":\"2078\"},{\"id\":\"2079\"},{\"id\":\"2080\"},{\"id\":\"2081\"}]},\"id\":\"2083\",\"type\":\"Toolbar\"},{\"attributes\":{},\"id\":\"2182\",\"type\":\"AllLabels\"},{\"attributes\":{\"coordinates\":null,\"data_source\":{\"id\":\"2090\"},\"glyph\":{\"id\":\"2091\"},\"group\":null,\"hover_glyph\":null,\"muted_glyph\":{\"id\":\"2093\"},\"nonselection_glyph\":{\"id\":\"2092\"},\"view\":{\"id\":\"2095\"}},\"id\":\"2094\",\"type\":\"GlyphRenderer\"},{\"attributes\":{\"axis\":{\"id\":\"2072\"},\"coordinates\":null,\"dimension\":1,\"group\":null,\"ticker\":null},\"id\":\"2075\",\"type\":\"Grid\"},{\"attributes\":{\"line_color\":\"red\",\"x\":{\"field\":\"x\"},\"y\":{\"field\":\"y\"}},\"id\":\"2097\",\"type\":\"Line\"},{\"attributes\":{},\"id\":\"2073\",\"type\":\"BasicTicker\"},{\"attributes\":{},\"id\":\"2184\",\"type\":\"BasicTickFormatter\"},{\"attributes\":{\"data\":{\"x\":{\"__ndarray__\":\"AAAAAAAAAACIxvrQWB/KP4jG+tBYH9o/5hS8nIKX4z+IxvrQWB/qPxW8nIKXU/A/5hS8nIKX8z+3bdu2bdv2P4jG+tBYH/o/WR8a60Nj/T8VvJyCl1MAQH5orA+N9QFA5hS8nIKXA0BOwcspeDkFQLdt27Zt2wZAIBrrQ2N9CECIxvrQWB8KQPByCl5OwQtAWR8a60NjDUDCyyl4OQUPQBW8nIKXUxBASZIkSZIkEUB+aKwPjfURQLI+NNaHxhJA5hS8nIKXE0Aa60NjfWgUQE7Byyl4ORVAg5dT8HIKFkC3bdu2bdsWQOtDY31orBdAIBrrQ2N9GEBU8HIKXk4ZQIjG+tBYHxpAvJyCl1PwGkDwcgpeTsEbQCVJkiRJkhxAWR8a60NjHUCN9aGxPjQeQMLLKXg5BR9A9qGxPjTWH0AVvJyCl1MgQC+n4OUUvCBASZIkSZIkIUBjfWisD40hQH5orA+N9SFAmFPwcgpeIkCyPjTWh8YiQMwpeDkFLyNA5hS8nIKXI0AAAAAAAAAkQA==\",\"dtype\":\"float64\",\"order\":\"little\",\"shape\":[50]},\"y\":{\"__ndarray__\":\"lAOji2DPK0DtGnissvEnQNXFnSAKryBA2m/zCob7M0A9rJJYb9wSwMCj/0PPvxJA2+U5Y65RHECJ2faHf8QxwKwcRGrh5izAHmCiuGeqM0DyZzQgIbczQJo3Ez9GNRrA8I1hdIqb/782if1voe4dwG6nU2O7KThA7rGozgWRNEC09xeHa08hQKCvHdTMh+8/roYdi8yNMECAa3vTEm31P0jc2fphVgNAi/7tKt/bP0AbisZAfnwsQHIQduj2+zlAaphF847qMUA7XkK4PHU2QLcs8KzpwDhAL9LEwrjXPECCsnN4NYtFQMzz5Uo6CUJA5q1P2AS6R0DWXpkrtYs2QHw9n0XSEElAK9PhSYlcRUB4768xisJBQJ6GyIMI9UpATPCZ5x3kS0A+HRf2pz9RQJBSFa59UktAUoX/EGakSEAoPdZRerZHQF8JybspFFVAVBBTiCTzUkD9h4KM/p5VQG1KpZmq4FJAVmSgEj/7WEDRDZBNIkNUQOvVoGGvylRAAHm/mV+EW0ACKxvyNqhVQA==\",\"dtype\":\"float64\",\"order\":\"little\",\"shape\":[50]}},\"selected\":{\"id\":\"2187\"},\"selection_policy\":{\"id\":\"2186\"}},\"id\":\"2090\",\"type\":\"ColumnDataSource\"},{\"attributes\":{},\"id\":\"2077\",\"type\":\"WheelZoomTool\"},{\"attributes\":{},\"id\":\"2185\",\"type\":\"AllLabels\"},{\"attributes\":{\"fill_alpha\":{\"value\":0.1},\"fill_color\":{\"value\":\"#1f77b4\"},\"hatch_alpha\":{\"value\":0.1},\"line_alpha\":{\"value\":0.1},\"line_color\":{\"value\":\"#1f77b4\"},\"x\":{\"field\":\"x\"},\"y\":{\"field\":\"y\"}},\"id\":\"2092\",\"type\":\"Scatter\"},{\"attributes\":{\"line_alpha\":0.2,\"line_color\":\"red\",\"x\":{\"field\":\"x\"},\"y\":{\"field\":\"y\"}},\"id\":\"2099\",\"type\":\"Line\"},{\"attributes\":{},\"id\":\"2076\",\"type\":\"PanTool\"},{\"attributes\":{\"overlay\":{\"id\":\"2082\"}},\"id\":\"2078\",\"type\":\"BoxZoomTool\"},{\"attributes\":{},\"id\":\"2079\",\"type\":\"SaveTool\"},{\"attributes\":{},\"id\":\"2080\",\"type\":\"ResetTool\"},{\"attributes\":{\"bottom_units\":\"screen\",\"coordinates\":null,\"fill_alpha\":0.5,\"fill_color\":\"lightgrey\",\"group\":null,\"left_units\":\"screen\",\"level\":\"overlay\",\"line_alpha\":1.0,\"line_color\":\"black\",\"line_dash\":[4,4],\"line_width\":2,\"right_units\":\"screen\",\"syncable\":false,\"top_units\":\"screen\"},\"id\":\"2082\",\"type\":\"BoxAnnotation\"},{\"attributes\":{},\"id\":\"2186\",\"type\":\"UnionRenderers\"},{\"attributes\":{\"source\":{\"id\":\"2090\"}},\"id\":\"2095\",\"type\":\"CDSView\"},{\"attributes\":{},\"id\":\"2187\",\"type\":\"Selection\"}],\"root_ids\":[\"2057\"]},\"title\":\"Bokeh Application\",\"version\":\"2.4.2\"}};\n  const render_items = [{\"docid\":\"4ce2daaa-e3b0-4eec-b4bc-743ee1cb89da\",\"root_ids\":[\"2057\"],\"roots\":{\"2057\":\"a70a7ab9-80b1-46c8-8aba-cfdc71061a66\"}}];\n  root.Bokeh.embed.embed_items_notebook(docs_json, render_items);\n\n  }\n  if (root.Bokeh !== undefined) {\n    embed_document(root);\n  } else {\n    let attempts = 0;\n    const timer = setInterval(function(root) {\n      if (root.Bokeh !== undefined) {\n        clearInterval(timer);\n        embed_document(root);\n      } else {\n        attempts++;\n        if (attempts > 100) {\n          clearInterval(timer);\n          console.log(\"Bokeh: ERROR: Unable to run BokehJS code because BokehJS library is missing\");\n        }\n      }\n    }, 10, root)\n  }\n})(window);",
      "application/vnd.bokehjs_exec.v0+json": ""
     },
     "metadata": {
      "application/vnd.bokehjs_exec.v0+json": {
       "id": "2057"
      }
     },
     "output_type": "display_data"
    }
   ],
   "source": [
    "n = 50\n",
    "x = np.linspace(0, 10, n)\n",
    "y = x**2 + np.random.uniform(-20, 20, n)\n",
    "\n",
    "\n",
    "def correlattion_coefficient(x, y):\n",
    "    return sum(standardize(x) * standardize(y)) / n\n",
    "\n",
    "\n",
    "r = correlattion_coefficient(x, y)\n",
    "print(f\"r = {r:.2f}\")\n",
    "print(f\"corrcoef = {np.corrcoef(x, y)[0,1]:.2f}\")\n",
    "\n",
    "p = figure(title=f\"corrcoef={r:.2f}\")\n",
    "p.scatter(x, y)\n",
    "x = np.linspace(np.min(x), np.max(x), num=n)\n",
    "p.line(x, x * r, color=\"red\")\n",
    "show(p)"
   ]
  },
  {
   "cell_type": "markdown",
   "metadata": {},
   "source": [
    "## Regression line\n",
    "\n",
    "Given data $(x_1, y_1), (x_2, y_2),... (x_n, y_n)$ line that goes through these points is a regression line.\n",
    "\n",
    "Its descriptions would be $\\hat{y_i} = a + b * x_i$.\n",
    "* $y_i$ is the observed value\n",
    "* $\\hat{y_i}$ estimate of $y_i$ given by the regression line\n",
    "\n",
    "One way to find $a$ and $b$ is to use the least square distnace method:\n",
    "\n",
    "$$\n",
    "\\sum_{i=1}^n (y_i - \\hat{y_i})^2 = \\sum_{i=1}^n (y_i - \\hat{y_i})^2\n",
    "$$"
   ]
  }
 ],
 "metadata": {
  "interpreter": {
   "hash": "aee8b7b246df8f9039afb4144a1f6fd8d2ca17a180786b69acc140d282b71a49"
  },
  "kernelspec": {
   "display_name": "Python 3.8.13 64-bit",
   "language": "python",
   "name": "python3"
  },
  "language_info": {
   "codemirror_mode": {
    "name": "ipython",
    "version": 3
   },
   "file_extension": ".py",
   "mimetype": "text/x-python",
   "name": "python",
   "nbconvert_exporter": "python",
   "pygments_lexer": "ipython3",
   "version": "3.8.13"
  },
  "orig_nbformat": 4
 },
 "nbformat": 4,
 "nbformat_minor": 2
}
